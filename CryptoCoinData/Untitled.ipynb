{
 "cells": [
  {
   "cell_type": "code",
   "execution_count": 18,
   "metadata": {},
   "outputs": [
    {
     "name": "stdout",
     "output_type": "stream",
     "text": [
      "        Date   Open   High    Low  Close     Volume  Market Cap\n",
      "0 2017-08-16  43.37  45.06  42.57  44.15  120765000  2275660000\n",
      "1 2017-08-15  45.81  45.84  42.29  43.31  206081000  2403520000\n",
      "2 2017-08-14  45.83  46.51  45.43  45.80  114402000  2403870000\n",
      "3 2017-08-13  46.57  48.07  44.33  45.81  242565000  2441760000\n",
      "4 2017-08-12  47.05  47.62  46.29  46.43  142065000  2466360000\n",
      "        Date     Open     High      Low    Close      Volume   Market Cap\n",
      "0 2017-08-16  4200.34  4381.23  3994.42  4376.63  2272040000  69342700000\n",
      "1 2017-08-15  4326.99  4455.97  3906.18  4181.93  3258050000  71425500000\n",
      "2 2017-08-14  4066.10  4325.13  3989.16  4325.13  2463090000  67112300000\n",
      "3 2017-08-13  3880.04  4208.39  3857.80  4073.26  3159090000  64034100000\n",
      "4 2017-08-12  3650.63  3949.92  3613.70  3884.71  2219590000  60242100000\n",
      "        Date    Open    High     Low   Close      Volume   Market Cap\n",
      "0 2017-08-16  289.82  303.41  285.38  302.27   967643000  27249700000\n",
      "1 2017-08-15  299.95  300.41  279.33  289.82  1051800000  28195800000\n",
      "2 2017-08-14  298.03  306.81  296.41  300.10   864391000  28008700000\n",
      "3 2017-08-13  310.37  310.82  289.31  298.06  1369370000  29161100000\n",
      "4 2017-08-12  308.71  317.56  307.90  310.60  1111650000  28998700000\n",
      "        Date      Open      High       Low     Close    Volume  Market Cap\n",
      "0 2017-08-16  0.249098  0.271480  0.246080  0.258012  10039900  2241880000\n",
      "1 2017-08-15  0.256281  0.256357  0.224459  0.247928  12637400  2306530000\n",
      "2 2017-08-14  0.256873  0.271702  0.230571  0.256048  12505500  2311850000\n",
      "3 2017-08-13  0.277406  0.280045  0.252924  0.257339   8310080  2496650000\n",
      "4 2017-08-12  0.293965  0.296601  0.270816  0.278085   6159860  2645690000\n"
     ]
    }
   ],
   "source": [
    "import pandas as pd\n",
    "import matplotlib.pyplot as plt\n",
    "from datetime import datetime\n",
    "\n",
    "def convert_string_to_date(string):\n",
    "    return datetime.strptime(string, '%b %d, %Y')\n",
    "\n",
    "litecoin = pd.read_csv(\"litecoin_20160101-20170817.csv\")\n",
    "bitcoin = pd.read_csv(\"bitcoin_20160101-20170817.csv\")\n",
    "ethereum = pd.read_csv(\"ethereum_20160101-20170817.csv\")\n",
    "nem = pd.read_csv(\"nem_20160101-20170817.csv\")\n",
    "\n",
    "litecoin[\"Date\"] = litecoin[\"Date\"].apply(convert_string_to_date)\n",
    "bitcoin[\"Date\"] = bitcoin[\"Date\"].apply(convert_string_to_date)\n",
    "ethereum[\"Date\"] = ethereum[\"Date\"].apply(convert_string_to_date)\n",
    "nem[\"Date\"] = nem[\"Date\"].apply(convert_string_to_date)\n",
    "print(litecoin.head())\n",
    "print(bitcoin.head())\n",
    "print(ethereum.head())\n",
    "print(nem.head())"
   ]
  },
  {
   "cell_type": "code",
   "execution_count": 33,
   "metadata": {},
   "outputs": [
    {
     "name": "stdout",
     "output_type": "stream",
     "text": [
      "(594, 8)\n",
      "(594, 8)\n",
      "(594, 8)\n",
      "(594, 8)\n"
     ]
    }
   ],
   "source": [
    "print(litecoin.shape)\n",
    "print(bitcoin.shape)\n",
    "print(ethereum.shape)\n",
    "print(nem.shape)"
   ]
  },
  {
   "cell_type": "code",
   "execution_count": 26,
   "metadata": {},
   "outputs": [
    {
     "data": {
      "text/plain": [
       "0.295213"
      ]
     },
     "execution_count": 26,
     "metadata": {},
     "output_type": "execute_result"
    }
   ],
   "source": [
    "nem[\"Close\"].max()"
   ]
  },
  {
   "cell_type": "code",
   "execution_count": 27,
   "metadata": {},
   "outputs": [],
   "source": [
    "normalisation_coeff = 1\n",
    "def normalise_close_price(open_price):\n",
    "    return open_price * normalisation_coeff\n",
    "\n",
    "normalisation_coeff = 1000 / int(litecoin[\"Close\"].max())\n",
    "litecoin[\"normalised_close_price\"] = litecoin[\"Close\"].apply(normalise_close_price)\n",
    "\n",
    "normalisation_coeff = 1000 / int(bitcoin[\"Close\"].max())\n",
    "bitcoin[\"normalised_close_price\"] = bitcoin[\"Close\"].apply(normalise_close_price)\n",
    "\n",
    "normalisation_coeff = 1000 / int(ethereum[\"Close\"].max())\n",
    "ethereum[\"normalised_close_price\"] = ethereum[\"Close\"].apply(normalise_close_price)\n",
    "\n",
    "normalisation_coeff = 1000 / nem[\"Close\"].max()\n",
    "nem[\"normalised_close_price\"] = nem[\"Close\"].apply(normalise_close_price)\n"
   ]
  },
  {
   "cell_type": "code",
   "execution_count": 30,
   "metadata": {},
   "outputs": [
    {
     "data": {
      "text/plain": [
       "[<matplotlib.lines.Line2D at 0x7f23733a12b0>]"
      ]
     },
     "execution_count": 30,
     "metadata": {},
     "output_type": "execute_result"
    },
    {
     "data": {
      "image/png": "[encoded data removed]",
      "text/plain": [
       "<matplotlib.figure.Figure at 0x7f2373556390>"
      ]
     },
     "metadata": {},
     "output_type": "display_data"
    }
   ],
   "source": [
    "%matplotlib inline\n",
    "plt.plot(litecoin[\"Date\"], litecoin['normalised_close_price'], c=\"grey\")\n",
    "plt.plot(bitcoin[\"Date\"], bitcoin['normalised_close_price'], c=\"orange\")\n",
    "plt.plot(ethereum[\"Date\"], ethereum['normalised_close_price'], c=\"blue\")\n",
    "plt.plot(nem[\"Date\"], nem['normalised_close_price'], c=\"green\")"
   ]
  },
  {
   "cell_type": "code",
   "execution_count": null,
   "metadata": {
    "collapsed": true
   },
   "outputs": [],
   "source": []
  }
 ],
 "metadata": {
  "kernelspec": {
   "display_name": "Python 3",
   "language": "python",
   "name": "python3"
  },
  "language_info": {
   "codemirror_mode": {
    "name": "ipython",
    "version": 3
   },
   "file_extension": ".py",
   "mimetype": "text/x-python",
   "name": "python",
   "nbconvert_exporter": "python",
   "pygments_lexer": "ipython3",
   "version": "3.6.1"
  }
 },
 "nbformat": 4,
 "nbformat_minor": 2
}
