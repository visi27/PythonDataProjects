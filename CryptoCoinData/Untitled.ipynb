{
 "cells": [
  {
   "cell_type": "code",
   "execution_count": 23,
   "metadata": {},
   "outputs": [
    {
     "name": "stdout",
     "output_type": "stream",
     "text": [
      "        Date   Open   High    Low  Close     Volume  Market Cap\n",
      "0 2017-08-16  43.37  45.06  42.57  44.15  120765000  2275660000\n",
      "1 2017-08-15  45.81  45.84  42.29  43.31  206081000  2403520000\n",
      "2 2017-08-14  45.83  46.51  45.43  45.80  114402000  2403870000\n",
      "3 2017-08-13  46.57  48.07  44.33  45.81  242565000  2441760000\n",
      "4 2017-08-12  47.05  47.62  46.29  46.43  142065000  2466360000\n",
      "        Date     Open     High      Low    Close      Volume   Market Cap\n",
      "0 2017-08-16  4200.34  4381.23  3994.42  4376.63  2272040000  69342700000\n",
      "1 2017-08-15  4326.99  4455.97  3906.18  4181.93  3258050000  71425500000\n",
      "2 2017-08-14  4066.10  4325.13  3989.16  4325.13  2463090000  67112300000\n",
      "3 2017-08-13  3880.04  4208.39  3857.80  4073.26  3159090000  64034100000\n",
      "4 2017-08-12  3650.63  3949.92  3613.70  3884.71  2219590000  60242100000\n",
      "        Date    Open    High     Low   Close      Volume   Market Cap\n",
      "0 2017-08-16  289.82  303.41  285.38  302.27   967643000  27249700000\n",
      "1 2017-08-15  299.95  300.41  279.33  289.82  1051800000  28195800000\n",
      "2 2017-08-14  298.03  306.81  296.41  300.10   864391000  28008700000\n",
      "3 2017-08-13  310.37  310.82  289.31  298.06  1369370000  29161100000\n",
      "4 2017-08-12  308.71  317.56  307.90  310.60  1111650000  28998700000\n",
      "        Date      Open      High       Low     Close    Volume  Market Cap\n",
      "0 2017-08-16  0.249098  0.271480  0.246080  0.258012  10039900  2241880000\n",
      "1 2017-08-15  0.256281  0.256357  0.224459  0.247928  12637400  2306530000\n",
      "2 2017-08-14  0.256873  0.271702  0.230571  0.256048  12505500  2311850000\n",
      "3 2017-08-13  0.277406  0.280045  0.252924  0.257339   8310080  2496650000\n",
      "4 2017-08-12  0.293965  0.296601  0.270816  0.278085   6159860  2645690000\n"
     ]
    }
   ],
   "source": [
    "import pandas as pd\n",
    "import matplotlib.pyplot as plt\n",
    "from datetime import datetime\n",
    "from scipy import stats\n",
    "\n",
    "def convert_string_to_date(string):\n",
    "    return datetime.strptime(string, '%b %d, %Y')\n",
    "\n",
    "litecoin = pd.read_csv(\"litecoin_20160101-20170817.csv\")\n",
    "bitcoin = pd.read_csv(\"bitcoin_20160101-20170817.csv\")\n",
    "ethereum = pd.read_csv(\"ethereum_20160101-20170817.csv\")\n",
    "nem = pd.read_csv(\"nem_20160101-20170817.csv\")\n",
    "\n",
    "litecoin[\"Date\"] = litecoin[\"Date\"].apply(convert_string_to_date)\n",
    "bitcoin[\"Date\"] = bitcoin[\"Date\"].apply(convert_string_to_date)\n",
    "ethereum[\"Date\"] = ethereum[\"Date\"].apply(convert_string_to_date)\n",
    "nem[\"Date\"] = nem[\"Date\"].apply(convert_string_to_date)\n",
    "print(litecoin.head())\n",
    "print(bitcoin.head())\n",
    "print(ethereum.head())\n",
    "print(nem.head())"
   ]
  },
  {
   "cell_type": "code",
   "execution_count": 24,
   "metadata": {},
   "outputs": [
    {
     "name": "stdout",
     "output_type": "stream",
     "text": [
      "(594, 7)\n",
      "(594, 7)\n",
      "(594, 7)\n",
      "(594, 7)\n"
     ]
    }
   ],
   "source": [
    "print(litecoin.shape)\n",
    "print(bitcoin.shape)\n",
    "print(ethereum.shape)\n",
    "print(nem.shape)"
   ]
  },
  {
   "cell_type": "code",
   "execution_count": 25,
   "metadata": {},
   "outputs": [
    {
     "data": {
      "text/plain": [
       "0.295213"
      ]
     },
     "execution_count": 25,
     "metadata": {},
     "output_type": "execute_result"
    }
   ],
   "source": [
    "nem[\"Close\"].max()"
   ]
  },
  {
   "cell_type": "code",
   "execution_count": 26,
   "metadata": {
    "collapsed": true
   },
   "outputs": [],
   "source": [
    "normalisation_coeff = 1\n",
    "def normalise_close_price(open_price):\n",
    "    return open_price * normalisation_coeff\n",
    "\n",
    "normalisation_coeff = 1000 / int(litecoin[\"Close\"].max())\n",
    "litecoin[\"normalised_close_price\"] = litecoin[\"Close\"].apply(normalise_close_price)\n",
    "\n",
    "normalisation_coeff = 1000 / int(bitcoin[\"Close\"].max())\n",
    "bitcoin[\"normalised_close_price\"] = bitcoin[\"Close\"].apply(normalise_close_price)\n",
    "\n",
    "normalisation_coeff = 1000 / int(ethereum[\"Close\"].max())\n",
    "ethereum[\"normalised_close_price\"] = ethereum[\"Close\"].apply(normalise_close_price)\n",
    "\n",
    "normalisation_coeff = 1000 / nem[\"Close\"].max()\n",
    "nem[\"normalised_close_price\"] = nem[\"Close\"].apply(normalise_close_price)\n"
   ]
  },
  {
   "cell_type": "code",
   "execution_count": 27,
   "metadata": {},
   "outputs": [
    {
     "data": {
      "image/png": "[encoded data removed]",
      "text/plain": [
       "<matplotlib.figure.Figure at 0x7f8f920e5da0>"
      ]
     },
     "metadata": {},
     "output_type": "display_data"
    }
   ],
   "source": [
    "%matplotlib inline\n",
    "\n",
    "fig, ax = plt.subplots(1)\n",
    "\n",
    "ax.plot(litecoin[\"Date\"], litecoin['normalised_close_price'], c=\"grey\")\n",
    "ax.plot(bitcoin[\"Date\"], bitcoin['normalised_close_price'], c=\"orange\")\n",
    "ax.plot(ethereum[\"Date\"], ethereum['normalised_close_price'], c=\"blue\")\n",
    "ax.plot(nem[\"Date\"], nem['normalised_close_price'], c=\"green\")\n",
    "\n",
    "fig.autofmt_xdate()"
   ]
  },
  {
   "cell_type": "code",
   "execution_count": 28,
   "metadata": {},
   "outputs": [
    {
     "data": {
      "text/plain": [
       "7"
      ]
     },
     "execution_count": 28,
     "metadata": {},
     "output_type": "execute_result"
    }
   ],
   "source": [
    "new_data_set = litecoin[[\"Date\"]]\n",
    "new_data_set.head()\n",
    "\n",
    "litecoin.columns.get_loc(\"normalised_close_price\")"
   ]
  },
  {
   "cell_type": "code",
   "execution_count": 29,
   "metadata": {},
   "outputs": [
    {
     "name": "stderr",
     "output_type": "stream",
     "text": [
      "/home/evis/anaconda3/lib/python3.6/site-packages/ipykernel_launcher.py:1: SettingWithCopyWarning: \n",
      "A value is trying to be set on a copy of a slice from a DataFrame.\n",
      "Try using .loc[row_indexer,col_indexer] = value instead\n",
      "\n",
      "See the caveats in the documentation: http://pandas.pydata.org/pandas-docs/stable/indexing.html#indexing-view-versus-copy\n",
      "  \"\"\"Entry point for launching an IPython kernel.\n",
      "/home/evis/anaconda3/lib/python3.6/site-packages/ipykernel_launcher.py:2: SettingWithCopyWarning: \n",
      "A value is trying to be set on a copy of a slice from a DataFrame.\n",
      "Try using .loc[row_indexer,col_indexer] = value instead\n",
      "\n",
      "See the caveats in the documentation: http://pandas.pydata.org/pandas-docs/stable/indexing.html#indexing-view-versus-copy\n",
      "  \n",
      "/home/evis/anaconda3/lib/python3.6/site-packages/ipykernel_launcher.py:3: SettingWithCopyWarning: \n",
      "A value is trying to be set on a copy of a slice from a DataFrame.\n",
      "Try using .loc[row_indexer,col_indexer] = value instead\n",
      "\n",
      "See the caveats in the documentation: http://pandas.pydata.org/pandas-docs/stable/indexing.html#indexing-view-versus-copy\n",
      "  This is separate from the ipykernel package so we can avoid doing imports until\n",
      "/home/evis/anaconda3/lib/python3.6/site-packages/ipykernel_launcher.py:4: SettingWithCopyWarning: \n",
      "A value is trying to be set on a copy of a slice from a DataFrame.\n",
      "Try using .loc[row_indexer,col_indexer] = value instead\n",
      "\n",
      "See the caveats in the documentation: http://pandas.pydata.org/pandas-docs/stable/indexing.html#indexing-view-versus-copy\n",
      "  after removing the cwd from sys.path.\n"
     ]
    },
    {
     "data": {
      "text/html": [
       "<div>\n",
       "<style>\n",
       "    .dataframe thead tr:only-child th {\n",
       "        text-align: right;\n",
       "    }\n",
       "\n",
       "    .dataframe thead th {\n",
       "        text-align: left;\n",
       "    }\n",
       "\n",
       "    .dataframe tbody tr th {\n",
       "        vertical-align: top;\n",
       "    }\n",
       "</style>\n",
       "<table border=\"1\" class=\"dataframe\">\n",
       "  <thead>\n",
       "    <tr style=\"text-align: right;\">\n",
       "      <th></th>\n",
       "      <th>Date</th>\n",
       "      <th>litecoin</th>\n",
       "      <th>bitcoin</th>\n",
       "      <th>ethereum</th>\n",
       "      <th>nem</th>\n",
       "    </tr>\n",
       "  </thead>\n",
       "  <tbody>\n",
       "    <tr>\n",
       "      <th>0</th>\n",
       "      <td>2017-08-16</td>\n",
       "      <td>802.727273</td>\n",
       "      <td>1000.143967</td>\n",
       "      <td>753.790524</td>\n",
       "      <td>873.985902</td>\n",
       "    </tr>\n",
       "    <tr>\n",
       "      <th>1</th>\n",
       "      <td>2017-08-15</td>\n",
       "      <td>787.454545</td>\n",
       "      <td>955.651280</td>\n",
       "      <td>722.743142</td>\n",
       "      <td>839.827514</td>\n",
       "    </tr>\n",
       "    <tr>\n",
       "      <th>2</th>\n",
       "      <td>2017-08-14</td>\n",
       "      <td>832.727273</td>\n",
       "      <td>988.375229</td>\n",
       "      <td>748.379052</td>\n",
       "      <td>867.333078</td>\n",
       "    </tr>\n",
       "    <tr>\n",
       "      <th>3</th>\n",
       "      <td>2017-08-13</td>\n",
       "      <td>832.909091</td>\n",
       "      <td>930.818099</td>\n",
       "      <td>743.291771</td>\n",
       "      <td>871.706192</td>\n",
       "    </tr>\n",
       "    <tr>\n",
       "      <th>4</th>\n",
       "      <td>2017-08-12</td>\n",
       "      <td>844.181818</td>\n",
       "      <td>887.730804</td>\n",
       "      <td>774.563591</td>\n",
       "      <td>941.980875</td>\n",
       "    </tr>\n",
       "  </tbody>\n",
       "</table>\n",
       "</div>"
      ],
      "text/plain": [
       "        Date    litecoin      bitcoin    ethereum         nem\n",
       "0 2017-08-16  802.727273  1000.143967  753.790524  873.985902\n",
       "1 2017-08-15  787.454545   955.651280  722.743142  839.827514\n",
       "2 2017-08-14  832.727273   988.375229  748.379052  867.333078\n",
       "3 2017-08-13  832.909091   930.818099  743.291771  871.706192\n",
       "4 2017-08-12  844.181818   887.730804  774.563591  941.980875"
      ]
     },
     "execution_count": 29,
     "metadata": {},
     "output_type": "execute_result"
    }
   ],
   "source": [
    "new_data_set[\"litecoin\"] = litecoin[\"normalised_close_price\"]\n",
    "new_data_set[\"bitcoin\"] = bitcoin[\"normalised_close_price\"]\n",
    "new_data_set[\"ethereum\"] = ethereum[\"normalised_close_price\"]\n",
    "new_data_set[\"nem\"] = nem[\"normalised_close_price\"]\n",
    "\n",
    "new_data_set.head()"
   ]
  },
  {
   "cell_type": "code",
   "execution_count": 34,
   "metadata": {},
   "outputs": [
    {
     "data": {
      "image/png": "[encoded data removed]",
      "text/plain": [
       "<matplotlib.figure.Figure at 0x7f8f91e85588>"
      ]
     },
     "metadata": {},
     "output_type": "display_data"
    }
   ],
   "source": [
    "fig, ax = plt.subplots(1)\n",
    "\n",
    "ax.plot(new_data_set[\"Date\"], new_data_set['litecoin'], c=\"grey\")\n",
    "ax.plot(new_data_set[\"Date\"], new_data_set['bitcoin'], c=\"orange\")\n",
    "\n",
    "fig.autofmt_xdate()"
   ]
  },
  {
   "cell_type": "code",
   "execution_count": 33,
   "metadata": {},
   "outputs": [
    {
     "data": {
      "text/plain": [
       "0.93058407566126466"
      ]
     },
     "execution_count": 33,
     "metadata": {},
     "output_type": "execute_result"
    }
   ],
   "source": [
    "r_value, p_value = stats.pearsonr(new_data_set[\"bitcoin\"], new_data_set[\"litecoin\"])\n",
    "r_value"
   ]
  },
  {
   "cell_type": "code",
   "execution_count": 35,
   "metadata": {},
   "outputs": [
    {
     "data": {
      "text/plain": [
       "<matplotlib.collections.PathCollection at 0x7f8f89c52518>"
      ]
     },
     "execution_count": 35,
     "metadata": {},
     "output_type": "execute_result"
    },
    {
     "data": {
      "image/png": "[encoded data removed]",
      "text/plain": [
       "<matplotlib.figure.Figure at 0x7f8f91e854a8>"
      ]
     },
     "metadata": {},
     "output_type": "display_data"
    }
   ],
   "source": [
    "plt.scatter(new_data_set[\"bitcoin\"], new_data_set[\"litecoin\"])"
   ]
  },
  {
   "cell_type": "code",
   "execution_count": 39,
   "metadata": {},
   "outputs": [
    {
     "name": "stdout",
     "output_type": "stream",
     "text": [
      "0.016117015068\n",
      "-6.19522412809\n"
     ]
    }
   ],
   "source": [
    "# Create a linear regression for the correlation between Fandango and Metacritic scores. \n",
    "slope, intercept, r_value, p_value, stderr = stats.linregress(bitcoin[\"Close\"], litecoin[\"Close\"])\n",
    "print(slope)\n",
    "print(intercept)"
   ]
  },
  {
   "cell_type": "code",
   "execution_count": 40,
   "metadata": {
    "collapsed": true
   },
   "outputs": [],
   "source": [
    "def predict_litecoin(bitcoin_price):\n",
    "    return bitcoin_price * slope + intercept\n"
   ]
  },
  {
   "cell_type": "code",
   "execution_count": 41,
   "metadata": {},
   "outputs": [
    {
     "name": "stdout",
     "output_type": "stream",
     "text": [
      "65.7188971055\n"
     ]
    }
   ],
   "source": [
    "print(predict_litecoin(4462))"
   ]
  },
  {
   "cell_type": "code",
   "execution_count": 51,
   "metadata": {},
   "outputs": [
    {
     "data": {
      "text/plain": [
       "0    64.342988\n",
       "1    61.205005\n",
       "2    63.512961\n",
       "3    59.453569\n",
       "4    56.414705\n",
       "Name: Close, dtype: float64"
      ]
     },
     "execution_count": 51,
     "metadata": {},
     "output_type": "execute_result"
    }
   ],
   "source": [
    "predicted_litecoin_prices = bitcoin[\"Close\"].apply(predict_litecoin)\n",
    "predicted_litecoin_prices.head()"
   ]
  },
  {
   "cell_type": "code",
   "execution_count": 52,
   "metadata": {},
   "outputs": [
    {
     "data": {
      "text/plain": [
       "[<matplotlib.lines.Line2D at 0x7f8f896c18d0>]"
      ]
     },
     "execution_count": 52,
     "metadata": {},
     "output_type": "execute_result"
    },
    {
     "data": {
      "image/png": "[encoded data removed]",
      "text/plain": [
       "<matplotlib.figure.Figure at 0x7f8f896c1908>"
      ]
     },
     "metadata": {},
     "output_type": "display_data"
    }
   ],
   "source": [
    "plt.plot(litecoin[\"Date\"], litecoin[\"Close\"])\n",
    "plt.plot(litecoin[\"Date\"], predicted_litecoin_prices)"
   ]
  },
  {
   "cell_type": "code",
   "execution_count": null,
   "metadata": {
    "collapsed": true
   },
   "outputs": [],
   "source": []
  }
 ],
 "metadata": {
  "kernelspec": {
   "display_name": "Python 3",
   "language": "python",
   "name": "python3"
  },
  "language_info": {
   "codemirror_mode": {
    "name": "ipython",
    "version": 3
   },
   "file_extension": ".py",
   "mimetype": "text/x-python",
   "name": "python",
   "nbconvert_exporter": "python",
   "pygments_lexer": "ipython3",
   "version": "3.6.1"
  }
 },
 "nbformat": 4,
 "nbformat_minor": 2
}
